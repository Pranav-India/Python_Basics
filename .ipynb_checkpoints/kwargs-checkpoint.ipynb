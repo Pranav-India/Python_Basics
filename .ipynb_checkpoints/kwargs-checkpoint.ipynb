{
 "cells": [
  {
   "cell_type": "markdown",
   "id": "infinite-annual",
   "metadata": {},
   "source": [
    "## *args and **kwargs"
   ]
  },
  {
   "cell_type": "code",
   "execution_count": 1,
   "id": "focused-acrylic",
   "metadata": {},
   "outputs": [],
   "source": [
    "def foo(req,*args,**kwargs):\n",
    "    print(req)\n",
    "    if args:\n",
    "        print(args)\n",
    "    if kwargs:\n",
    "        print(kwargs)"
   ]
  },
  {
   "cell_type": "code",
   "execution_count": 2,
   "id": "defined-rogers",
   "metadata": {},
   "outputs": [
    {
     "name": "stdout",
     "output_type": "stream",
     "text": [
      "hello\n"
     ]
    }
   ],
   "source": [
    "foo('hello')"
   ]
  },
  {
   "cell_type": "code",
   "execution_count": 3,
   "id": "technical-gasoline",
   "metadata": {},
   "outputs": [
    {
     "name": "stdout",
     "output_type": "stream",
     "text": [
      "hello\n",
      "(2, 323, 12, 3)\n"
     ]
    }
   ],
   "source": [
    "foo('hello',2,323,12,3)"
   ]
  },
  {
   "cell_type": "code",
   "execution_count": 4,
   "id": "stuck-february",
   "metadata": {},
   "outputs": [
    {
     "name": "stdout",
     "output_type": "stream",
     "text": [
      "hello\n",
      "(2, 323, 12, 3)\n",
      "{'key1': 'values', 'key2': 987}\n"
     ]
    }
   ],
   "source": [
    "foo('hello',2,323,12,3 ,key1 = 'values',key2 = 987)"
   ]
  },
  {
   "cell_type": "code",
   "execution_count": 6,
   "id": "assumed-thesis",
   "metadata": {},
   "outputs": [],
   "source": [
    "def foo(x,*args,**kwargs):\n",
    "    kwargs['name'] = 'Alice'\n",
    "    new_args = args+('extra')\n",
    "    bar(x,*new_args,**kwargs)# here we can call any function we want"
   ]
  },
  {
   "cell_type": "code",
   "execution_count": 7,
   "id": "painted-camel",
   "metadata": {},
   "outputs": [],
   "source": [
    "class Car:\n",
    "    def __init__(self,color,mileage):\n",
    "        self.color = color\n",
    "        self.mileage = mileage\n",
    "        \n",
    "class AlwaysBlueCar(Car):\n",
    "    def __init__(self , *args,**kwargs):\n",
    "        super().__init__(*args,**kwargs)\n",
    "        self.color = 'Blue'"
   ]
  },
  {
   "cell_type": "code",
   "execution_count": 9,
   "id": "rotary-madonna",
   "metadata": {},
   "outputs": [],
   "source": [
    "red = AlwaysBlueCar('red' ,'aaas')"
   ]
  },
  {
   "cell_type": "code",
   "execution_count": 11,
   "id": "quick-video",
   "metadata": {},
   "outputs": [
    {
     "data": {
      "text/plain": [
       "'Blue'"
      ]
     },
     "execution_count": 11,
     "metadata": {},
     "output_type": "execute_result"
    }
   ],
   "source": [
    "red.color"
   ]
  },
  {
   "cell_type": "code",
   "execution_count": 12,
   "id": "younger-retro",
   "metadata": {},
   "outputs": [
    {
     "data": {
      "text/plain": [
       "'aaas'"
      ]
     },
     "execution_count": 12,
     "metadata": {},
     "output_type": "execute_result"
    }
   ],
   "source": [
    "red.mileage"
   ]
  },
  {
   "cell_type": "code",
   "execution_count": null,
   "id": "stupid-score",
   "metadata": {},
   "outputs": [],
   "source": []
  }
 ],
 "metadata": {
  "kernelspec": {
   "display_name": "Python 3",
   "language": "python",
   "name": "python3"
  },
  "language_info": {
   "codemirror_mode": {
    "name": "ipython",
    "version": 3
   },
   "file_extension": ".py",
   "mimetype": "text/x-python",
   "name": "python",
   "nbconvert_exporter": "python",
   "pygments_lexer": "ipython3",
   "version": "3.6.9"
  }
 },
 "nbformat": 4,
 "nbformat_minor": 5
}
