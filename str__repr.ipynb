{
 "cells": [
  {
   "cell_type": "code",
   "execution_count": 1,
   "id": "affecting-surgery",
   "metadata": {},
   "outputs": [],
   "source": [
    "class Car:\n",
    "    def __init__(self, color,mileage):\n",
    "        self.color = color\n",
    "        self.mileage = mileage"
   ]
  },
  {
   "cell_type": "code",
   "execution_count": 2,
   "id": "artistic-lottery",
   "metadata": {},
   "outputs": [],
   "source": [
    "my_car = Car('red',32)"
   ]
  },
  {
   "cell_type": "code",
   "execution_count": 3,
   "id": "noticed-merchant",
   "metadata": {},
   "outputs": [
    {
     "data": {
      "text/plain": [
       "<__main__.Car at 0x7f64c48f0748>"
      ]
     },
     "execution_count": 3,
     "metadata": {},
     "output_type": "execute_result"
    }
   ],
   "source": [
    "my_car"
   ]
  },
  {
   "cell_type": "code",
   "execution_count": 4,
   "id": "subjective-graduation",
   "metadata": {},
   "outputs": [
    {
     "name": "stdout",
     "output_type": "stream",
     "text": [
      "<__main__.Car object at 0x7f64c48f0748>\n"
     ]
    }
   ],
   "source": [
    "print(my_car)"
   ]
  },
  {
   "cell_type": "code",
   "execution_count": 15,
   "id": "alone-venice",
   "metadata": {},
   "outputs": [],
   "source": [
    "class Car:\n",
    "    def __init__(self, color,mileage):\n",
    "        self.color = color\n",
    "        self.mileage = mileage\n",
    "        \n",
    "    def __str__(self):\n",
    "        return 'a {self.color} car'.format(self=self)"
   ]
  },
  {
   "cell_type": "code",
   "execution_count": 16,
   "id": "cathedral-poultry",
   "metadata": {},
   "outputs": [],
   "source": [
    "my_car=Car('blue',45)"
   ]
  },
  {
   "cell_type": "code",
   "execution_count": 17,
   "id": "certain-challenge",
   "metadata": {},
   "outputs": [
    {
     "name": "stdout",
     "output_type": "stream",
     "text": [
      "a blue car\n"
     ]
    }
   ],
   "source": [
    "print(my_car)"
   ]
  },
  {
   "cell_type": "code",
   "execution_count": 18,
   "id": "broke-extraction",
   "metadata": {},
   "outputs": [
    {
     "data": {
      "text/plain": [
       "<__main__.Car at 0x7f64c40a1080>"
      ]
     },
     "execution_count": 18,
     "metadata": {},
     "output_type": "execute_result"
    }
   ],
   "source": [
    "my_car"
   ]
  },
  {
   "cell_type": "code",
   "execution_count": 19,
   "id": "shared-spirit",
   "metadata": {},
   "outputs": [],
   "source": [
    "class Car:\n",
    "    def __init__(self, color,mileage):\n",
    "        self.color = color\n",
    "        self.mileage = mileage\n",
    "        \n",
    "    def __str__(self):\n",
    "        return 'a {self.color} car'.format(self=self)\n",
    "    \n",
    "    def __repr__(self):\n",
    "        return '__repr__ was called'"
   ]
  },
  {
   "cell_type": "code",
   "execution_count": 20,
   "id": "human-sword",
   "metadata": {},
   "outputs": [],
   "source": [
    "my_car = Car('yellow',10)"
   ]
  },
  {
   "cell_type": "code",
   "execution_count": 21,
   "id": "decimal-tolerance",
   "metadata": {},
   "outputs": [
    {
     "name": "stdout",
     "output_type": "stream",
     "text": [
      "a yellow car\n"
     ]
    }
   ],
   "source": [
    "print(my_car)"
   ]
  },
  {
   "cell_type": "code",
   "execution_count": 22,
   "id": "experienced-sacrifice",
   "metadata": {},
   "outputs": [
    {
     "data": {
      "text/plain": [
       "__repr__ was called"
      ]
     },
     "execution_count": 22,
     "metadata": {},
     "output_type": "execute_result"
    }
   ],
   "source": [
    "my_car"
   ]
  },
  {
   "cell_type": "markdown",
   "id": "embedded-elimination",
   "metadata": {},
   "source": [
    "## __str__ vs __repr__"
   ]
  },
  {
   "cell_type": "code",
   "execution_count": 23,
   "id": "outstanding-schema",
   "metadata": {},
   "outputs": [],
   "source": [
    "import datetime"
   ]
  },
  {
   "cell_type": "code",
   "execution_count": 24,
   "id": "tropical-registrar",
   "metadata": {},
   "outputs": [],
   "source": [
    "today = datetime.date.today()"
   ]
  },
  {
   "cell_type": "code",
   "execution_count": 25,
   "id": "chronic-register",
   "metadata": {},
   "outputs": [
    {
     "data": {
      "text/plain": [
       "'2021-07-20'"
      ]
     },
     "execution_count": 25,
     "metadata": {},
     "output_type": "execute_result"
    }
   ],
   "source": [
    "str(today)"
   ]
  },
  {
   "cell_type": "code",
   "execution_count": 26,
   "id": "further-investing",
   "metadata": {},
   "outputs": [
    {
     "data": {
      "text/plain": [
       "'datetime.date(2021, 7, 20)'"
      ]
     },
     "execution_count": 26,
     "metadata": {},
     "output_type": "execute_result"
    }
   ],
   "source": [
    "repr(today)"
   ]
  },
  {
   "cell_type": "code",
   "execution_count": 27,
   "id": "isolated-navigator",
   "metadata": {},
   "outputs": [
    {
     "data": {
      "text/plain": [
       "datetime.date(2021, 7, 20)"
      ]
     },
     "execution_count": 27,
     "metadata": {},
     "output_type": "execute_result"
    }
   ],
   "source": [
    "today"
   ]
  },
  {
   "cell_type": "markdown",
   "id": "statistical-reward",
   "metadata": {},
   "source": [
    "## __str__ == easy to read for human consumption\n",
    "\n",
    "## __repr__ == unambiguous (for developers to understand)"
   ]
  },
  {
   "cell_type": "code",
   "execution_count": 28,
   "id": "elder-bulgarian",
   "metadata": {},
   "outputs": [],
   "source": [
    "class Car:\n",
    "    def __init__(self, color,mileage):\n",
    "        self.color = color\n",
    "        self.mileage = mileage\n",
    "        \n",
    "    def __repr__(self):\n",
    "        #return 'Car({self.color},{self.mileage})'.format(self=self)\n",
    "        return 'Car({self.color},{self.mileage})'.format(self=self)"
   ]
  },
  {
   "cell_type": "code",
   "execution_count": 29,
   "id": "incorrect-distributor",
   "metadata": {},
   "outputs": [],
   "source": [
    "bmw = Car('gray',5)"
   ]
  },
  {
   "cell_type": "code",
   "execution_count": 30,
   "id": "prescribed-purple",
   "metadata": {},
   "outputs": [
    {
     "data": {
      "text/plain": [
       "Car(gray,5)"
      ]
     },
     "execution_count": 30,
     "metadata": {},
     "output_type": "execute_result"
    }
   ],
   "source": [
    "bmw"
   ]
  },
  {
   "cell_type": "code",
   "execution_count": null,
   "id": "indirect-representative",
   "metadata": {},
   "outputs": [],
   "source": []
  }
 ],
 "metadata": {
  "kernelspec": {
   "display_name": "Python 3",
   "language": "python",
   "name": "python3"
  },
  "language_info": {
   "codemirror_mode": {
    "name": "ipython",
    "version": 3
   },
   "file_extension": ".py",
   "mimetype": "text/x-python",
   "name": "python",
   "nbconvert_exporter": "python",
   "pygments_lexer": "ipython3",
   "version": "3.6.9"
  }
 },
 "nbformat": 4,
 "nbformat_minor": 5
}
