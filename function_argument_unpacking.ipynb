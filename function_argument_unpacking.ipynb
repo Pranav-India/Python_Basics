{
 "cells": [
  {
   "cell_type": "markdown",
   "id": "incredible-hobby",
   "metadata": {},
   "source": [
    "## * and ** operators"
   ]
  },
  {
   "cell_type": "code",
   "execution_count": 1,
   "id": "greenhouse-conditioning",
   "metadata": {},
   "outputs": [],
   "source": [
    "def print_vec(x,y,z):\n",
    "    print('<%s,%s,%s>' %(x,y,z))"
   ]
  },
  {
   "cell_type": "code",
   "execution_count": 2,
   "id": "honest-mediterranean",
   "metadata": {},
   "outputs": [
    {
     "name": "stdout",
     "output_type": "stream",
     "text": [
      "<1,2,5>\n"
     ]
    }
   ],
   "source": [
    "print_vec(1,2,5)"
   ]
  },
  {
   "cell_type": "code",
   "execution_count": 3,
   "id": "defined-spread",
   "metadata": {},
   "outputs": [],
   "source": [
    "tuple_vec = (1,0,1)\n",
    "list_vec = [1,6,7]"
   ]
  },
  {
   "cell_type": "code",
   "execution_count": 4,
   "id": "healthy-powell",
   "metadata": {},
   "outputs": [
    {
     "name": "stdout",
     "output_type": "stream",
     "text": [
      "<1,0,1>\n"
     ]
    }
   ],
   "source": [
    "print_vec(tuple_vec[0],tuple_vec[1],tuple_vec[2])"
   ]
  },
  {
   "cell_type": "code",
   "execution_count": 5,
   "id": "injured-conservative",
   "metadata": {},
   "outputs": [
    {
     "name": "stdout",
     "output_type": "stream",
     "text": [
      "<1,0,1>\n"
     ]
    }
   ],
   "source": [
    "print_vec(*tuple_vec)"
   ]
  },
  {
   "cell_type": "code",
   "execution_count": 6,
   "id": "shared-detector",
   "metadata": {},
   "outputs": [
    {
     "name": "stdout",
     "output_type": "stream",
     "text": [
      "<1,6,7>\n"
     ]
    }
   ],
   "source": [
    "print_vec(*list_vec)"
   ]
  },
  {
   "cell_type": "code",
   "execution_count": 7,
   "id": "unnecessary-plate",
   "metadata": {},
   "outputs": [],
   "source": [
    "gen_expr= (x*x for x in range(3))"
   ]
  },
  {
   "cell_type": "code",
   "execution_count": 8,
   "id": "least-delay",
   "metadata": {},
   "outputs": [
    {
     "name": "stdout",
     "output_type": "stream",
     "text": [
      "<0,1,4>\n"
     ]
    }
   ],
   "source": [
    "print_vec(*gen_expr)"
   ]
  },
  {
   "cell_type": "code",
   "execution_count": 12,
   "id": "ruled-potential",
   "metadata": {},
   "outputs": [],
   "source": [
    "dict_vec = {'x':6,'y':3,'z':1}"
   ]
  },
  {
   "cell_type": "code",
   "execution_count": 10,
   "id": "danish-kruger",
   "metadata": {},
   "outputs": [
    {
     "ename": "TypeError",
     "evalue": "print_vec() missing 2 required positional arguments: 'y' and 'z'",
     "output_type": "error",
     "traceback": [
      "\u001b[0;31m---------------------------------------------------------------------------\u001b[0m",
      "\u001b[0;31mTypeError\u001b[0m                                 Traceback (most recent call last)",
      "\u001b[0;32m<ipython-input-10-06e11fdb2745>\u001b[0m in \u001b[0;36m<module>\u001b[0;34m\u001b[0m\n\u001b[0;32m----> 1\u001b[0;31m \u001b[0mprint_vec\u001b[0m\u001b[0;34m(\u001b[0m\u001b[0mdict_vec\u001b[0m\u001b[0;34m)\u001b[0m\u001b[0;34m\u001b[0m\u001b[0;34m\u001b[0m\u001b[0m\n\u001b[0m",
      "\u001b[0;31mTypeError\u001b[0m: print_vec() missing 2 required positional arguments: 'y' and 'z'"
     ]
    }
   ],
   "source": [
    "print_vec(dict_vec)"
   ]
  },
  {
   "cell_type": "code",
   "execution_count": 13,
   "id": "mature-therapy",
   "metadata": {},
   "outputs": [
    {
     "name": "stdout",
     "output_type": "stream",
     "text": [
      "<6,3,1>\n"
     ]
    }
   ],
   "source": [
    "print_vec(**dict_vec)"
   ]
  },
  {
   "cell_type": "markdown",
   "id": "compressed-junction",
   "metadata": {},
   "source": [
    "## you have to have same keys as input parameter of the dict and keys of dict"
   ]
  },
  {
   "cell_type": "code",
   "execution_count": null,
   "id": "australian-legend",
   "metadata": {},
   "outputs": [],
   "source": []
  }
 ],
 "metadata": {
  "kernelspec": {
   "display_name": "Python 3",
   "language": "python",
   "name": "python3"
  },
  "language_info": {
   "codemirror_mode": {
    "name": "ipython",
    "version": 3
   },
   "file_extension": ".py",
   "mimetype": "text/x-python",
   "name": "python",
   "nbconvert_exporter": "python",
   "pygments_lexer": "ipython3",
   "version": "3.6.9"
  }
 },
 "nbformat": 4,
 "nbformat_minor": 5
}
