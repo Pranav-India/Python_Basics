{
 "cells": [
  {
   "cell_type": "code",
   "execution_count": 1,
   "id": "sorted-surveillance",
   "metadata": {},
   "outputs": [],
   "source": [
    "def myfunc(a,b):\n",
    "    return a+b"
   ]
  },
  {
   "cell_type": "code",
   "execution_count": 2,
   "id": "secondary-cargo",
   "metadata": {},
   "outputs": [],
   "source": [
    "funcs = [myfunc]"
   ]
  },
  {
   "cell_type": "code",
   "execution_count": 3,
   "id": "outstanding-equipment",
   "metadata": {},
   "outputs": [
    {
     "data": {
      "text/plain": [
       "13"
      ]
     },
     "execution_count": 3,
     "metadata": {},
     "output_type": "execute_result"
    }
   ],
   "source": [
    "funcs[0](6,7)"
   ]
  },
  {
   "cell_type": "code",
   "execution_count": 4,
   "id": "allied-landing",
   "metadata": {},
   "outputs": [
    {
     "ename": "NameError",
     "evalue": "name 'handel_a' is not defined",
     "output_type": "error",
     "traceback": [
      "\u001b[0;31m---------------------------------------------------------------------------\u001b[0m",
      "\u001b[0;31mNameError\u001b[0m                                 Traceback (most recent call last)",
      "\u001b[0;32m<ipython-input-4-bf2a2b92e903>\u001b[0m in \u001b[0;36m<module>\u001b[0;34m\u001b[0m\n\u001b[1;32m      1\u001b[0m func_dict = {\n\u001b[0;32m----> 2\u001b[0;31m     \u001b[0;34m'cond_a'\u001b[0m\u001b[0;34m:\u001b[0m \u001b[0mhandel_a\u001b[0m\u001b[0;34m,\u001b[0m\u001b[0;34m\u001b[0m\u001b[0;34m\u001b[0m\u001b[0m\n\u001b[0m\u001b[1;32m      3\u001b[0m     \u001b[0;34m'cond_b'\u001b[0m\u001b[0;34m:\u001b[0m \u001b[0mhandel_b\u001b[0m\u001b[0;34m,\u001b[0m\u001b[0;34m\u001b[0m\u001b[0;34m\u001b[0m\u001b[0m\n\u001b[1;32m      4\u001b[0m }\n",
      "\u001b[0;31mNameError\u001b[0m: name 'handel_a' is not defined"
     ]
    }
   ],
   "source": [
    "func_dict = {\n",
    "    'cond_a': handel_a,\n",
    "    'cond_b': handel_b,\n",
    "}"
   ]
  },
  {
   "cell_type": "code",
   "execution_count": 5,
   "id": "gorgeous-russell",
   "metadata": {},
   "outputs": [
    {
     "ename": "NameError",
     "evalue": "name 'func_dict' is not defined",
     "output_type": "error",
     "traceback": [
      "\u001b[0;31m---------------------------------------------------------------------------\u001b[0m",
      "\u001b[0;31mNameError\u001b[0m                                 Traceback (most recent call last)",
      "\u001b[0;32m<ipython-input-5-926cba4d5f11>\u001b[0m in \u001b[0;36m<module>\u001b[0;34m\u001b[0m\n\u001b[0;32m----> 1\u001b[0;31m \u001b[0mfunc_dict\u001b[0m\u001b[0;34m[\u001b[0m\u001b[0mcond\u001b[0m\u001b[0;34m]\u001b[0m\u001b[0;34m(\u001b[0m\u001b[0;34m)\u001b[0m\u001b[0;34m\u001b[0m\u001b[0;34m\u001b[0m\u001b[0m\n\u001b[0m\u001b[1;32m      2\u001b[0m \u001b[0;31m#Key error if cond not found\u001b[0m\u001b[0;34m\u001b[0m\u001b[0;34m\u001b[0m\u001b[0;34m\u001b[0m\u001b[0m\n",
      "\u001b[0;31mNameError\u001b[0m: name 'func_dict' is not defined"
     ]
    }
   ],
   "source": [
    "func_dict[cond]()\n",
    "#Key error if cond not found"
   ]
  },
  {
   "cell_type": "code",
   "execution_count": 6,
   "id": "fiscal-belgium",
   "metadata": {},
   "outputs": [
    {
     "ename": "NameError",
     "evalue": "name 'func_dict' is not defined",
     "output_type": "error",
     "traceback": [
      "\u001b[0;31m---------------------------------------------------------------------------\u001b[0m",
      "\u001b[0;31mNameError\u001b[0m                                 Traceback (most recent call last)",
      "\u001b[0;32m<ipython-input-6-2aee1bf93411>\u001b[0m in \u001b[0;36m<module>\u001b[0;34m\u001b[0m\n\u001b[0;32m----> 1\u001b[0;31m \u001b[0mfunc_dict\u001b[0m\u001b[0;34m.\u001b[0m\u001b[0mget\u001b[0m\u001b[0;34m(\u001b[0m\u001b[0mcond\u001b[0m\u001b[0;34m,\u001b[0m\u001b[0mhandel_default\u001b[0m\u001b[0;34m)\u001b[0m\u001b[0;34m(\u001b[0m\u001b[0;34m)\u001b[0m\u001b[0;34m\u001b[0m\u001b[0;34m\u001b[0m\u001b[0m\n\u001b[0m",
      "\u001b[0;31mNameError\u001b[0m: name 'func_dict' is not defined"
     ]
    }
   ],
   "source": [
    "func_dict.get(cond,handel_default)()"
   ]
  },
  {
   "cell_type": "code",
   "execution_count": 7,
   "id": "announced-macintosh",
   "metadata": {},
   "outputs": [],
   "source": [
    "#calculator with parameters as ope,x,y"
   ]
  },
  {
   "cell_type": "code",
   "execution_count": 9,
   "id": "joint-farming",
   "metadata": {},
   "outputs": [],
   "source": [
    "def calculator_dict(op,x,y):\n",
    "    return {\n",
    "        'add' : lambda: x+y,\n",
    "        'sub' : lambda: x-y,\n",
    "        'mul' : lambda: x*y,\n",
    "        'div' : lambda: x/y,\n",
    "    }.get(op,lambda:None)()"
   ]
  },
  {
   "cell_type": "code",
   "execution_count": 10,
   "id": "quarterly-istanbul",
   "metadata": {},
   "outputs": [
    {
     "data": {
      "text/plain": [
       "20"
      ]
     },
     "execution_count": 10,
     "metadata": {},
     "output_type": "execute_result"
    }
   ],
   "source": [
    "calculator_dict('mul',4,5)"
   ]
  }
 ],
 "metadata": {
  "kernelspec": {
   "display_name": "Python 3",
   "language": "python",
   "name": "python3"
  },
  "language_info": {
   "codemirror_mode": {
    "name": "ipython",
    "version": 3
   },
   "file_extension": ".py",
   "mimetype": "text/x-python",
   "name": "python",
   "nbconvert_exporter": "python",
   "pygments_lexer": "ipython3",
   "version": "3.6.9"
  }
 },
 "nbformat": 4,
 "nbformat_minor": 5
}
