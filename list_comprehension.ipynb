{
 "cells": [
  {
   "cell_type": "code",
   "execution_count": 1,
   "id": "instrumental-thesaurus",
   "metadata": {},
   "outputs": [],
   "source": [
    "sqr = [x*x for x in range(10)]"
   ]
  },
  {
   "cell_type": "code",
   "execution_count": 2,
   "id": "homeless-computer",
   "metadata": {},
   "outputs": [
    {
     "data": {
      "text/plain": [
       "[0, 1, 4, 9, 16, 25, 36, 49, 64, 81]"
      ]
     },
     "execution_count": 2,
     "metadata": {},
     "output_type": "execute_result"
    }
   ],
   "source": [
    "sqr"
   ]
  },
  {
   "cell_type": "code",
   "execution_count": 3,
   "id": "changing-manhattan",
   "metadata": {},
   "outputs": [
    {
     "data": {
      "text/plain": [
       "[0, 1, 4, 9, 16, 25, 36, 49, 64, 81]"
      ]
     },
     "execution_count": 3,
     "metadata": {},
     "output_type": "execute_result"
    }
   ],
   "source": [
    "sqr = []\n",
    "for x in range(10):\n",
    "    sqr.append(x*x)\n",
    "\n",
    "sqr"
   ]
  },
  {
   "cell_type": "markdown",
   "id": "collectible-cisco",
   "metadata": {},
   "source": [
    "## (Values) = [(expression) for value in (collection)]\n"
   ]
  },
  {
   "cell_type": "code",
   "execution_count": 4,
   "id": "focused-yield",
   "metadata": {},
   "outputs": [],
   "source": [
    "sqr = [x*x for x in range(10) if x%2 ==0]"
   ]
  },
  {
   "cell_type": "code",
   "execution_count": 5,
   "id": "signal-whole",
   "metadata": {},
   "outputs": [
    {
     "data": {
      "text/plain": [
       "[0, 4, 16, 36, 64]"
      ]
     },
     "execution_count": 5,
     "metadata": {},
     "output_type": "execute_result"
    }
   ],
   "source": [
    "sqr"
   ]
  },
  {
   "cell_type": "code",
   "execution_count": 6,
   "id": "unlikely-hamilton",
   "metadata": {},
   "outputs": [
    {
     "data": {
      "text/plain": [
       "[0, 4, 16, 36, 64]"
      ]
     },
     "execution_count": 6,
     "metadata": {},
     "output_type": "execute_result"
    }
   ],
   "source": [
    "sqr = []\n",
    "for x in range(10):\n",
    "    if x%2 ==0:\n",
    "        sqr.append(x*x)\n",
    "\n",
    "sqr"
   ]
  },
  {
   "cell_type": "markdown",
   "id": "revised-front",
   "metadata": {},
   "source": [
    "## (Values) = [(expression) for value in (collection) if condition]"
   ]
  },
  {
   "cell_type": "markdown",
   "id": "logical-baker",
   "metadata": {},
   "source": [
    "\n",
    "\n",
    "\n",
    "values = [function() for variable in something if condition]"
   ]
  },
  {
   "cell_type": "code",
   "execution_count": 11,
   "id": "optional-personality",
   "metadata": {},
   "outputs": [],
   "source": [
    "#values = [expression\n",
    "#          for value in collection\n",
    "#          if condition]"
   ]
  },
  {
   "cell_type": "code",
   "execution_count": null,
   "id": "israeli-flesh",
   "metadata": {},
   "outputs": [],
   "source": []
  }
 ],
 "metadata": {
  "kernelspec": {
   "display_name": "Python 3",
   "language": "python",
   "name": "python3"
  },
  "language_info": {
   "codemirror_mode": {
    "name": "ipython",
    "version": 3
   },
   "file_extension": ".py",
   "mimetype": "text/x-python",
   "name": "python",
   "nbconvert_exporter": "python",
   "pygments_lexer": "ipython3",
   "version": "3.6.9"
  }
 },
 "nbformat": 4,
 "nbformat_minor": 5
}
