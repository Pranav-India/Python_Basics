{
 "cells": [
  {
   "cell_type": "code",
   "execution_count": null,
   "id": "e46d02b4",
   "metadata": {},
   "outputs": [],
   "source": [
    "def factors_list(n):\n",
    "    a = []\n",
    "    for i in range(1, n + 1):\n",
    "        if n % i == 0:\n",
    "            a.append(i)\n",
    "    if (len(a)%2 ==0):\n",
    "        return 1\n",
    "    else:\n",
    "        return 0\n"
   ]
  },
  {
   "cell_type": "code",
   "execution_count": null,
   "id": "d2f9f2cd",
   "metadata": {},
   "outputs": [],
   "source": [
    "for i in range(1,101):\n",
    "    \n",
    "    "
   ]
  }
 ],
 "metadata": {
  "kernelspec": {
   "display_name": "Python 3",
   "language": "python",
   "name": "python3"
  },
  "language_info": {
   "codemirror_mode": {
    "name": "ipython",
    "version": 3
   },
   "file_extension": ".py",
   "mimetype": "text/x-python",
   "name": "python",
   "nbconvert_exporter": "python",
   "pygments_lexer": "ipython3",
   "version": "3.6.4"
  }
 },
 "nbformat": 4,
 "nbformat_minor": 5
}
